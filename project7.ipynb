{
 "cells": [
  {
   "cell_type": "code",
   "execution_count": null,
   "id": "30007a00-a57a-4c26-9d93-45478d851d95",
   "metadata": {
    "scrolled": true
   },
   "outputs": [],
   "source": [
    "\n",
    "\n",
    "def make_logger(prefix):\n",
    "    def decorator(func):\n",
    "        def wrapper(*args, **kwargs):\n",
    "            print(f\"{prefix} Entering {func.__name__}\")\n",
    "            result = func(*args, **kwargs)\n",
    "            print(f\"{prefix} Exiting {func.__name__}\")\n",
    "            return result\n",
    "        return wrapper\n",
    "    return decorator\n",
    "\n",
    "\n",
    "math_logger = make_logger(\"[MathModule]\")\n",
    "\n",
    "@math_logger\n",
    "def add(a, b):\n",
    "    return a + b\n",
    "\n",
    "print(\"Result:\", add(5, 3))\n",
    "\n"
   ]
  },
  {
   "cell_type": "code",
   "execution_count": null,
   "id": "44c94511-50bd-48e4-80ff-848dea4224ec",
   "metadata": {},
   "outputs": [],
   "source": []
  }
 ],
 "metadata": {
  "kernelspec": {
   "display_name": "Python 3 (ipykernel)",
   "language": "python",
   "name": "python3"
  },
  "language_info": {
   "codemirror_mode": {
    "name": "ipython",
    "version": 3
   },
   "file_extension": ".py",
   "mimetype": "text/x-python",
   "name": "python",
   "nbconvert_exporter": "python",
   "pygments_lexer": "ipython3",
   "version": "3.12.7"
  }
 },
 "nbformat": 4,
 "nbformat_minor": 5
}
