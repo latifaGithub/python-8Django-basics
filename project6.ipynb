{
 "cells": [
  {
   "cell_type": "code",
   "execution_count": 29,
   "id": "30007a00-a57a-4c26-9d93-45478d851d95",
   "metadata": {},
   "outputs": [
    {
     "name": "stdout",
     "output_type": "stream",
     "text": [
      "Flower Details= Price: 100, Color: White, Smell: Sweet\n",
      "Flower Details= Price: 30, Color: Red, Smell: Strong\n",
      "Flower Details= Price: 10, Color: Pink, Smell: Mild\n"
     ]
    }
   ],
   "source": [
    "# Project 6: Flower Class\n",
    "\n",
    "class Flower:\n",
    "    def __init__(self, price, color, smell):\n",
    "        self.price = price\n",
    "        self.color = color\n",
    "        self.smell = smell\n",
    "\n",
    "    def get(self):\n",
    "        self.price= input(\"Enter the price: \") \n",
    "        self.color= input(\"Enter the Color: \")\n",
    "        self.smell = input(\"Enter the smell: \") \n",
    "        \n",
    "\n",
    "    def display(self):\n",
    "        print(f\"Flower Details= Price: {self.price}, Color: {self.color}, Smell: {self.smell}\")\n",
    "\n",
    "lilly = Flower(100, \"White\", \"Sweet\")\n",
    "rose = Flower(30, \"Red\", \"Strong\")\n",
    "hibiscus = Flower(10, \"Pink\", \"Mild\")\n",
    "\n",
    "\n",
    "lilly.display()\n",
    "rose.display()\n",
    "hibiscus.display()\n",
    "\n",
    "\n"
   ]
  },
  {
   "cell_type": "code",
   "execution_count": 14,
   "id": "a18ff6be-2a99-47a3-b30a-a78ba84958e4",
   "metadata": {},
   "outputs": [
    {
     "name": "stdout",
     "output_type": "stream",
     "text": [
      "\u001b[1mThis is bold text\u001b[0m\n"
     ]
    }
   ],
   "source": []
  },
  {
   "cell_type": "code",
   "execution_count": null,
   "id": "f1fa2402-1892-459c-81fc-5abb418b8bd4",
   "metadata": {},
   "outputs": [],
   "source": []
  }
 ],
 "metadata": {
  "kernelspec": {
   "display_name": "Python 3 (ipykernel)",
   "language": "python",
   "name": "python3"
  },
  "language_info": {
   "codemirror_mode": {
    "name": "ipython",
    "version": 3
   },
   "file_extension": ".py",
   "mimetype": "text/x-python",
   "name": "python",
   "nbconvert_exporter": "python",
   "pygments_lexer": "ipython3",
   "version": "3.12.7"
  }
 },
 "nbformat": 4,
 "nbformat_minor": 5
}
